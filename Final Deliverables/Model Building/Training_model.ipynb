{
  "nbformat": 4,
  "nbformat_minor": 0,
  "metadata": {
    "colab": {
      "provenance": []
    },
    "kernelspec": {
      "name": "python3",
      "display_name": "Python 3"
    },
    "language_info": {
      "name": "python"
    }
  },
  "cells": [
    {
      "cell_type": "code",
      "execution_count": 1,
      "metadata": {
        "id": "6SqLTY8PyD3K"
      },
      "outputs": [],
      "source": [
        "import keras\n",
        "from keras.preprocessing.image import ImageDataGenerator"
      ]
    },
    {
      "cell_type": "code",
      "source": [
        "#Define the parameters/arguments for ImageDataGenerator class\n",
        "train_datagen=ImageDataGenerator(rescale=1./255,shear_range=0.2,rotation_range=180,zoom_range=0.2,horizontal_flip=True)\n",
        "\n",
        "test_datagen=ImageDataGenerator(rescale=1./255)"
      ],
      "metadata": {
        "id": "yxUhIZ55yLb1"
      },
      "execution_count": 2,
      "outputs": []
    },
    {
      "cell_type": "code",
      "source": [
        "#Applying ImageDataGenerator functionality to trainset\n",
        "x_train=train_datagen.flow_from_directory('/content/drive/MyDrive/IBM/Dataset/Dataset/train_set',target_size=(128,128),batch_size=32,class_mode='binary')"
      ],
      "metadata": {
        "colab": {
          "base_uri": "https://localhost:8080/"
        },
        "id": "DmJedOxQyLfO",
        "outputId": "962168fe-2053-4af7-b28c-3b49ce262495"
      },
      "execution_count": 3,
      "outputs": [
        {
          "output_type": "stream",
          "name": "stdout",
          "text": [
            "Found 1520 images belonging to 2 classes.\n"
          ]
        }
      ]
    },
    {
      "cell_type": "code",
      "source": [
        "#Applying ImageDataGenerator functionality to testset\n",
        "x_test=test_datagen.flow_from_directory('/content/drive/MyDrive/IBM/Dataset/Dataset/Testing',target_size=(128,128),batch_size=32,class_mode='binary')"
      ],
      "metadata": {
        "colab": {
          "base_uri": "https://localhost:8080/"
        },
        "id": "898RSGykyLic",
        "outputId": "deab14ac-5055-4ccf-8cac-dfa706221507"
      },
      "execution_count": 5,
      "outputs": [
        {
          "output_type": "stream",
          "name": "stdout",
          "text": [
            "Found 380 images belonging to 2 classes.\n"
          ]
        }
      ]
    },
    {
      "cell_type": "code",
      "source": [
        "#import model building libraries\n",
        "\n",
        "#To define Linear initialisation import Sequential\n",
        "from keras.models import Sequential\n",
        "#To add layers import Dense\n",
        "from keras.layers import Dense\n",
        "#To create Convolution kernel import Convolution2D\n",
        "from keras.layers import Convolution2D\n",
        "#import Maxpooling layer\n",
        "from keras.layers import MaxPooling2D\n",
        "#import flatten layer\n",
        "from keras.layers import Flatten\n",
        "import warnings\n",
        "warnings.filterwarnings('ignore')"
      ],
      "metadata": {
        "id": "C_80CuSZyLlU"
      },
      "execution_count": 6,
      "outputs": []
    },
    {
      "cell_type": "code",
      "source": [
        "#initializing the model\n",
        "model=Sequential()"
      ],
      "metadata": {
        "id": "AfFGZygpzc3m"
      },
      "execution_count": 7,
      "outputs": []
    },
    {
      "cell_type": "code",
      "source": [
        "#add convolutional layer\n",
        "model.add(Convolution2D(32,(3,3),input_shape=(128,128,3),activation='relu'))\n",
        "#add maxpooling layer\n",
        "model.add(MaxPooling2D(pool_size=(2,2)))\n",
        "#add flatten layer \n",
        "model.add(Flatten())"
      ],
      "metadata": {
        "id": "or19-gZjzhMt"
      },
      "execution_count": 8,
      "outputs": []
    },
    {
      "cell_type": "code",
      "source": [
        "#add hidden layer\n",
        "model.add(Dense(150,activation='relu'))\n",
        "#add output layer\n",
        "model.add(Dense(1,activation='sigmoid'))"
      ],
      "metadata": {
        "id": "0tE3FaYMzhQd"
      },
      "execution_count": 9,
      "outputs": []
    },
    {
      "cell_type": "code",
      "source": [
        "#configure the learning process\n",
        "model.compile(loss='binary_crossentropy',optimizer=\"adam\",metrics=[\"accuracy\"])"
      ],
      "metadata": {
        "id": "-LDttcT9zqT1"
      },
      "execution_count": 10,
      "outputs": []
    },
    {
      "cell_type": "code",
      "source": [
        "#Training the model\n",
        "model.fit_generator(x_train,steps_per_epoch=14,epochs=10,validation_data=x_test,validation_steps=4)"
      ],
      "metadata": {
        "colab": {
          "base_uri": "https://localhost:8080/"
        },
        "id": "MVLxbfoSzqfU",
        "outputId": "b1417f2a-dbeb-4386-c260-fab23593ef25"
      },
      "execution_count": 11,
      "outputs": [
        {
          "output_type": "stream",
          "name": "stdout",
          "text": [
            "Epoch 1/10\n",
            "14/14 [==============================] - 287s 21s/step - loss: 0.9552 - accuracy: 0.7790 - val_loss: 0.5534 - val_accuracy: 0.8750\n",
            "Epoch 2/10\n",
            "14/14 [==============================] - 195s 14s/step - loss: 0.2253 - accuracy: 0.9167 - val_loss: 0.3849 - val_accuracy: 0.9297\n",
            "Epoch 3/10\n",
            "14/14 [==============================] - 132s 9s/step - loss: 0.1831 - accuracy: 0.9442 - val_loss: 0.1980 - val_accuracy: 0.9375\n",
            "Epoch 4/10\n",
            "14/14 [==============================] - 88s 6s/step - loss: 0.1769 - accuracy: 0.9514 - val_loss: 0.2005 - val_accuracy: 0.9453\n",
            "Epoch 5/10\n",
            "14/14 [==============================] - 59s 4s/step - loss: 0.2007 - accuracy: 0.9282 - val_loss: 0.1316 - val_accuracy: 0.9453\n",
            "Epoch 6/10\n",
            "14/14 [==============================] - 55s 4s/step - loss: 0.2004 - accuracy: 0.9241 - val_loss: 0.4875 - val_accuracy: 0.8516\n",
            "Epoch 7/10\n",
            "14/14 [==============================] - 34s 2s/step - loss: 0.2199 - accuracy: 0.9144 - val_loss: 0.2394 - val_accuracy: 0.9297\n",
            "Epoch 8/10\n",
            "14/14 [==============================] - 22s 1s/step - loss: 0.2214 - accuracy: 0.9152 - val_loss: 0.2007 - val_accuracy: 0.9062\n",
            "Epoch 9/10\n",
            "14/14 [==============================] - 17s 1s/step - loss: 0.2136 - accuracy: 0.9196 - val_loss: 0.3418 - val_accuracy: 0.9141\n",
            "Epoch 10/10\n",
            "14/14 [==============================] - 14s 985ms/step - loss: 0.1869 - accuracy: 0.9241 - val_loss: 0.1980 - val_accuracy: 0.9453\n"
          ]
        },
        {
          "output_type": "execute_result",
          "data": {
            "text/plain": [
              "<keras.callbacks.History at 0x7f36355389d0>"
            ]
          },
          "metadata": {},
          "execution_count": 11
        }
      ]
    },
    {
      "cell_type": "code",
      "source": [],
      "metadata": {
        "id": "LFNZGmioyLoW"
      },
      "execution_count": null,
      "outputs": []
    }
  ]
}